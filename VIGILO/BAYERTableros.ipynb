{
 "cells": [
  {
   "cell_type": "markdown",
   "metadata": {},
   "source": [
    "# BAYER - Proyecto de Tableros e Indicadores"
   ]
  },
  {
   "cell_type": "markdown",
   "metadata": {},
   "source": [
    "## 1) Generar Conexión con SQL SERVER"
   ]
  },
  {
   "cell_type": "code",
   "execution_count": null,
   "metadata": {},
   "outputs": [],
   "source": [
    "import requests\n",
    "import pandas as pd\n",
    "import datetime\n",
    "import json"
   ]
  },
  {
   "cell_type": "code",
   "execution_count": null,
   "metadata": {},
   "outputs": [],
   "source": [
    "# CONECTAR con SERVIDOR SQL SERVER\n",
    "\n",
    "import pyodbc\n",
    "from dotenv import dotenv_values\n",
    "\n",
    "secrets = dotenv_values(\".env\")\n",
    "local_secrets = dotenv_values(\".env.dev\")\n",
    "\n",
    "SERVER = secrets[\"SERVER\"]\n",
    "DATABASE = secrets[\"DATABASE\"]\n",
    "USERNAME = secrets[\"USERNAME\"]\n",
    "PASSWORD = secrets[\"PASSWORD\"]\n",
    "PORT = secrets[\"PUERTO\"]\n",
    "DRIVER = secrets[\"DRIVER\"]\n",
    "OPTIONS= secrets[\"OPTIONS\"]\n",
    "\n",
    "connectionString = f'DRIVER={DRIVER};SERVER={SERVER};DATABASE={DATABASE};UID={USERNAME};PWD={PASSWORD};{OPTIONS}'\n",
    "print(connectionString)\n",
    "conn = pyodbc.connect(connectionString) \n",
    "\n",
    "#    DRIVER={ODBC Driver 18 for SQL Server};SERVER=213.134.40.73,9595;DATABASE=seamtrack;UID=eduardo.ettlin@vigiloo.com.ar;PWD=Aladelta10$;encrypt=no\n",
    "#    DRIVER={ODBC Driver 18 for SQL Server};SERVER=username;DATABASE=secret;UID=eduar;PWD=Aladelta10$;encrypt=no"
   ]
  },
  {
   "cell_type": "code",
   "execution_count": null,
   "metadata": {},
   "outputs": [],
   "source": [
    "print(secrets)"
   ]
  },
  {
   "cell_type": "markdown",
   "metadata": {},
   "source": [
    "## 2) Extraerlos Datos procesados que están en SQL SERVER"
   ]
  },
  {
   "cell_type": "code",
   "execution_count": null,
   "metadata": {},
   "outputs": [],
   "source": [
    "# Armar la Consulta con sus PARAMETROS\n",
    "\n",
    "LIMITE =\"'2025-02-01'\"\n",
    "\n",
    "SQL_QUERY = f\"\"\"\n",
    "SELECT  DISTINCT     \n",
    "    A.[RefId] as EMBARQUE\n",
    "    ,D.RefId as DELIVERY\n",
    "    ,A.[Date] as FECHA\n",
    "    ,F.[Date] as FECHA_ACT\n",
    "\n",
    "    --,F.[DriverId]\n",
    "    --,R.[DriverId]\n",
    "    ,R.[CustomerId]\n",
    "    ,R.[FirstName]\n",
    "    ,R.[LastName]\n",
    "    ,R.[DocumentNumber]\n",
    "    ,R.[PhonePersonalMobile]\n",
    "    ,R.[PhoneWorkMobile]\n",
    "\n",
    "    --,F.[VehicleMotorId]\n",
    "    ,V.[Plate]\n",
    "    ,V.[TargetAssignedId]\n",
    "\n",
    "    ,F.[ActivityStarted]\n",
    "    ,F.[ActivityStartedAt]\n",
    "    ,F.[ActivityEndedAt]\n",
    "\n",
    "    ,G.[Order]\n",
    "    ,G.[FreeOrder]\n",
    "    ,G.[TaskStarted]\n",
    "    ,G.[TaskStartedAt]\n",
    "\n",
    "    -- ,G.[ThirdLocationId]\n",
    "    ,G.[LocationEstimatedArrival]\n",
    "\n",
    "    --,D.[PurchaseDoc]\n",
    "    ,D.[PurchaseOrderIdRef] as PEDIDO\n",
    "    ,D.[DestinationCode]\n",
    "    ,D.[DestinationName]\n",
    "\n",
    "    ,A.[LogisticGroupId]\n",
    "\n",
    "    FROM [seamtrack].[vigiloo].[Shipment] A  \n",
    "    LEFT JOIN [seamtrack].[vigiloo].[ShipmentDestination] B\n",
    "    ON B.[ShipmentId] = A.Id\n",
    "\n",
    "    LEFT JOIN [seamtrack].[vigiloo].[Delivery] D\n",
    "    ON D.[ShipmentId] = A.Id\n",
    "\n",
    "    LEFT JOIN [seamtrack].[vigiloo].[Activity] F\n",
    "    ON F.[IdRef] = A.[RefId]\n",
    "    LEFT JOIN [seamtrack].[vigiloo].[ActivityTask] G\n",
    "    ON G.[ActivityId] = F.[Id]\n",
    "    LEFT JOIN [seamtrack].[vigiloo].[Vehicle] V\n",
    "    ON V.[Id] = F.[VehicleMotorId]\n",
    "    LEFT JOIN [seamtrack].[vigiloo].[Driver] R\n",
    "    ON R.[Id] = F.[DriverId]\n",
    "WHERE A.[Date] >= {LIMITE}\n",
    "ORDER BY A.RefId,D.RefId, D.[DestinationCode];\n",
    "\"\"\"\n"
   ]
  },
  {
   "cell_type": "code",
   "execution_count": null,
   "metadata": {},
   "outputs": [],
   "source": [
    "print(SQL_QUERY)"
   ]
  },
  {
   "cell_type": "code",
   "execution_count": null,
   "metadata": {},
   "outputs": [],
   "source": [
    "# Ejecutar la Consulta\n",
    "cursor = conn.cursor()\n",
    "cursor.execute(SQL_QUERY)\n",
    "records = cursor.fetchall()"
   ]
  },
  {
   "cell_type": "code",
   "execution_count": null,
   "metadata": {},
   "outputs": [],
   "source": [
    "# Generar DATAFRAME con los resultados de las consultas\n",
    "df = pd.DataFrame((tuple(t) for t in records)) \n",
    "df.columns = ['EMBARQUE','DELIVERY','FECHA','FECHA_ACT','CustomerId','FirstName','LastName','DocumentNumber','PhonePersonalMobile','PhoneWorkMobile',\n",
    "              'Plate','TargetAssignedId','ActivityStarted','ActivityStartedAt','ActivityEndedAt','Order','FreeOrder','TaskStarted','TaskStartedAt','LocationEstimatedArrival',\n",
    "              'PEDIDO','DestinationCode','DestinationName','LogisticGroupId']\n",
    "\n",
    "# Eliminar Registros con datos Nulos\n",
    "df.dropna(subset=['EMBARQUE','DELIVERY'], inplace=True)\n",
    "\n",
    "# Adecuar el Grupo Logístico\n",
    "df[\"LogisticGroupId\"] = df[\"LogisticGroupId\"].replace(\n",
    "    { \"75247427-34FD-41A3-B7E0-F0B8312EADA8\": \"Monsanto\", \"F21EE1F9-4823-42B4-AD40-8C81F2847818\": \"BAYER\", \"B5F0D86E-DD9E-49C7-A55E-F3B0CE3300B4\": \"Semillas\" })  \n",
    "\n",
    "# Dimensión Fecha\n",
    "df['Fecha_Corta']= df['FECHA'].dt.strftime('%Y/%m/%d')\n",
    "df['Anio_Mes']= df['FECHA'].dt.strftime('%Y-%m')  # Agrupo Mensual\n",
    "df['Semana']= df['FECHA'].dt.strftime('%w') # Atrupo Semanal"
   ]
  },
  {
   "cell_type": "code",
   "execution_count": null,
   "metadata": {},
   "outputs": [],
   "source": [
    "# df.head(5)"
   ]
  },
  {
   "cell_type": "code",
   "execution_count": null,
   "metadata": {},
   "outputs": [],
   "source": [
    "# df.info()"
   ]
  },
  {
   "cell_type": "code",
   "execution_count": null,
   "metadata": {},
   "outputs": [],
   "source": [
    "# GENERAR Dataframes con las Medidas\n",
    "df_embarque = df.groupby('Fecha_Corta')['EMBARQUE'].nunique()\n",
    "df_delivery = df.groupby('Fecha_Corta')['DELIVERY'].nunique()\n",
    "df_pedido = df.groupby('Fecha_Corta')['PEDIDO'].nunique()\n",
    "\n",
    "# CONTATENAR Dataframes\n",
    "df_completo = pd.merge(df_embarque, df_delivery, on='Fecha_Corta', how = 'outer')\n",
    "df_completo = pd.merge(df_completo, df_pedido, on='Fecha_Corta', how = 'outer')\n",
    "\n",
    "df_completo.info()"
   ]
  },
  {
   "cell_type": "code",
   "execution_count": null,
   "metadata": {},
   "outputs": [],
   "source": [
    "# Creación del gráfico\n",
    "import matplotlib.pyplot as plt\n",
    "\n",
    "# Asegurarnos de que el índice es de tipo fecha\n",
    "# df.index = pd.to_datetime(df.index)\n",
    "\n",
    "# Crear la gráfica de barras agrupadas\n",
    "ax = df_completo.plot(kind='line',subplots=True, figsize=(20, 6))\n",
    "\n",
    "# Añadir etiquetas y título\n",
    "plt.title('Embarques, Deliveries y Pedidos por Fecha')\n",
    "plt.xlabel('Fecha')\n",
    "plt.ylabel('Cantidad')\n",
    "plt.xticks(rotation=45)\n",
    "plt.legend(title='Categoría')\n",
    "\n",
    "# Mostrar la gráfica\n",
    "plt.tight_layout()\n",
    "plt.show()\n"
   ]
  },
  {
   "cell_type": "markdown",
   "metadata": {},
   "source": [
    "### CONTADORES AGRUPADOS"
   ]
  },
  {
   "cell_type": "code",
   "execution_count": null,
   "metadata": {},
   "outputs": [],
   "source": [
    "# GENERAR Dataframes Acumulado MENSUAL\n",
    "# Asegurarnos de que el índice es de tipo fecha\n",
    "df_completo.index = pd.to_datetime(df_completo.index)\n",
    "\n",
    "# Agrupar por mes y calcular la suma de cada mes\n",
    "df_monthly = df_completo.resample('M').sum()\n",
    "\n",
    "# Añadir una columna con el nombre del mes\n",
    "df_monthly['Mes'] = df_monthly.index.strftime('%B')\n",
    "\n",
    "# Ajustar el índice para que sea el nombre del mes\n",
    "df_monthly.set_index('Mes', inplace=True)\n",
    "\n",
    "# Crear la gráfica de barras agrupadas por mes\n",
    "ax = df_monthly.plot(kind='bar', figsize=(12, 6), width=0.8)\n",
    "\n",
    "# Añadir etiquetas y título\n",
    "plt.title('Embarques, Deliveries y Pedidos por Mes')\n",
    "plt.xlabel('Mes')\n",
    "plt.ylabel('Cantidad')\n",
    "plt.xticks(rotation=45)\n",
    "plt.legend(title='Categoría')\n",
    "\n",
    "# Mostrar la gráfica\n",
    "plt.tight_layout()\n",
    "plt.show()"
   ]
  },
  {
   "cell_type": "code",
   "execution_count": null,
   "metadata": {},
   "outputs": [],
   "source": [
    "# OTRA FORMA para GENERAR Dataframes Acumulado MENSUAL\n",
    "TOT_embarque = df.groupby('LogisticGroupId')['EMBARQUE'].nunique()\n",
    "TOT_delivery = df.groupby('LogisticGroupId')['DELIVERY'].nunique()\n",
    "TOT_pedido = df.groupby('LogisticGroupId')['PEDIDO'].nunique()"
   ]
  },
  {
   "cell_type": "code",
   "execution_count": null,
   "metadata": {},
   "outputs": [],
   "source": [
    "# GRAFICOS de ANILLOS\n",
    "# https://barcelonageeks.com/grafico-de-anillos-usando-matplotlib-en-python/\n",
    "\n",
    "\n",
    "import matplotlib.pyplot as plt\n",
    "\n",
    "# Agrupar por mes y calcular la suma de cada mes\n",
    "df_monthly = df_completo.resample('M').sum()\n",
    "\n",
    "# Añadir una columna con el nombre del mes\n",
    "df_monthly['Mes'] = df_monthly.index.strftime('%B')\n",
    "\n",
    "# Crear un gráfico de pastel para cada categoría\n",
    "categorias = ['EMBARQUE', 'DELIVERY', 'PEDIDO']\n",
    "\n",
    "# Totales de las Categorías\n",
    "print(df_monthly[categorias].sum())\n",
    "\n",
    "for categoria in categorias:\n",
    "    plt.figure(figsize=(6, 6))\n",
    "\n",
    "    # Crear la lista 'explode' con el mismo tamaño que la cantidad de meses\n",
    "    explode = [0.05] * len(df_monthly)  \n",
    "\n",
    "    plt.pie(df_monthly[categoria], labels=df_monthly['Mes'], autopct='%1.1f%%', \n",
    "            startangle=140, pctdistance=0.85, explode=explode)\n",
    "\n",
    "    # Dibujar círculo para hacer gráfico de anillo\n",
    "    centre_circle = plt.Circle((0, 0), 0.70, fc='white')\n",
    "    fig = plt.gcf()\n",
    "    fig.gca().add_artist(centre_circle)\n",
    "\n",
    "    # Agregar Total en Cada Gráfico   \n",
    "    plt.text(-0.1, 0, df_monthly[categoria].sum(), fontsize=16, \n",
    "             bbox={'facecolor': 'oldlace', 'alpha': 0.5, 'boxstyle': \"round,pad=0.3\", 'ec': 'red'})\n",
    "\n",
    "    plt.title(f'Distribución de {categoria} por Mes')\n",
    "    plt.axis('equal')  # Para asegurar que el gráfico de pastel sea un círculo  \n",
    "    plt.show()\n"
   ]
  },
  {
   "cell_type": "code",
   "execution_count": null,
   "metadata": {},
   "outputs": [],
   "source": [
    "# VERSIÓN MEJORADA\n",
    "# https://matplotlib.org/stable/gallery/pie_and_polar_charts/pie_and_donut_labels.html\n",
    "\n",
    "import numpy as np\n",
    "import matplotlib.pyplot as plt\n",
    "\n",
    "# Agrupar por mes y calcular la suma de cada mes\n",
    "df_monthly = df_completo.resample('ME').sum()\n",
    "\n",
    "# Añadir una columna con el nombre del mes\n",
    "df_monthly['Mes'] = df_monthly.index.strftime('%B')\n",
    "\n",
    "# Crear un gráfico de pastel para cada categoría\n",
    "categorias = ['EMBARQUE', 'DELIVERY', 'PEDIDO']\n",
    "\n",
    "for categoria in categorias:   \n",
    "    if categoria in df_monthly.columns:\n",
    "        fig, ax = plt.subplots(figsize=(6, 6), subplot_kw=dict(aspect=\"equal\"))\n",
    "\n",
    "        # Configuración de explosión dinámica según la cantidad de meses\n",
    "        explode = [0.01] * len(df_monthly[categoria])\n",
    "        \n",
    "        wedges, texts = ax.pie(df_monthly[categoria], wedgeprops=dict(width=0.5), startangle=-40, explode=explode)\n",
    "\n",
    "        bbox_props = dict(boxstyle=\"square,pad=0.3\", fc=\"w\", ec=\"k\", lw=0.72)\n",
    "        kw = dict(arrowprops=dict(arrowstyle=\"-\"),\n",
    "                bbox=bbox_props, zorder=0, va=\"center\")\n",
    "\n",
    "        total = df_monthly[categoria].sum()\n",
    "        for i, p in enumerate(wedges):\n",
    "            ang = (p.theta2 - p.theta1)/2. + p.theta1\n",
    "            y = np.sin(np.deg2rad(ang))\n",
    "            x = np.cos(np.deg2rad(ang))\n",
    "            horizontalalignment = {-1: \"right\", 1: \"left\"}[int(np.sign(x))]\n",
    "            connectionstyle = f\"angle,angleA=0,angleB={ang}\"\n",
    "            kw[\"arrowprops\"].update({\"connectionstyle\": connectionstyle})\n",
    "\n",
    "            porcentaje = df_monthly[categoria].iloc[i] / total * 100\n",
    "            texto_anotacion = f'{df_monthly[\"Mes\"].iloc[i]}: {df_monthly[categoria].iloc[i]} ({porcentaje:.1f}%)'\n",
    "            ax.annotate(texto_anotacion, xy=(x, y), xytext=(1.35*np.sign(x), 1.4*y),\n",
    "                        horizontalalignment=horizontalalignment, **kw)\n",
    "\n",
    "        ax.set_title(f'Distribución de {categoria} por Mes')\n",
    "        \n",
    "        # Agregar Total en Cada Gráfico   \n",
    "        plt.text(-0.35, 0, f'Total: {total}', fontsize=16, bbox={'facecolor': 'oldlace', 'alpha': 0.5, 'boxstyle': \"round,pad=0.3\", 'ec': 'red'})\n",
    "\n",
    "        plt.show()"
   ]
  },
  {
   "cell_type": "code",
   "execution_count": null,
   "metadata": {},
   "outputs": [],
   "source": [
    "# AGRUPAR por GRUPO LOGÍSTICO\n",
    "\n",
    "# OTRA FORMA para GENERAR Dataframes Acumulado MENSUAL\n",
    "dfa_embarque = df.groupby('LogisticGroupId')['EMBARQUE'].nunique()\n",
    "dfa_delivery = df.groupby('LogisticGroupId')['DELIVERY'].nunique()\n",
    "dfa_pedido = df.groupby('LogisticGroupId')['PEDIDO'].nunique()\n",
    "\n",
    "# CONTATENAR Dataframes\n",
    "dfa_completo = pd.merge(dfa_embarque, dfa_delivery, on='LogisticGroupId', how = 'outer')\n",
    "dfa_completo = pd.merge(dfa_completo, dfa_pedido, on='LogisticGroupId', how = 'outer')\n",
    "\n",
    "dfa_completo.info()"
   ]
  },
  {
   "cell_type": "code",
   "execution_count": null,
   "metadata": {},
   "outputs": [],
   "source": [
    "# Creación del gráfico\n",
    "import matplotlib.pyplot as plt\n",
    "\n",
    "# Asegurarnos de que el índice es de tipo fecha\n",
    "# df.index = pd.to_datetime(df.index)\n",
    "\n",
    "# Crear la gráfica de barras agrupadas\n",
    "axa = dfa_completo.plot(kind='bar', figsize=(10, 6), width=0.8)\n",
    "\n",
    "# Añadir etiquetas y título\n",
    "plt.title('Embarques, Deliveries y Pedidos por GRUPO LOGISTICO')\n",
    "plt.xlabel('Grupo')\n",
    "plt.ylabel('Cantidad')\n",
    "plt.xticks(rotation=45)\n",
    "plt.legend(title='Categoría')\n",
    "\n",
    "# Mostrar la gráfica\n",
    "plt.tight_layout()\n",
    "plt.show()"
   ]
  },
  {
   "cell_type": "code",
   "execution_count": null,
   "metadata": {},
   "outputs": [],
   "source": [
    "# Transponer el DataFrame para tener 'GrupoId' como columnas\n",
    "df_transposed = dfa_completo.T\n",
    "\n",
    "# Crear un gráfico de pastel para cada categoría\n",
    "categorias = ['EMBARQUE', 'DELIVERY', 'PEDIDO']\n",
    "\n",
    "# explosion\n",
    "explode = (0.05, 0.05, 0.05)\n",
    "\n",
    "for group in df_transposed.index:\n",
    "    plt.figure(figsize=(6, 4))\n",
    "    #plt.pie(df_transposed.loc[group], labels=df_transposed.columns, autopct='%1.1f%%', pctdistance=0.85, startangle=140)\n",
    "    plt.pie(df_transposed.loc[group], autopct='%1.1f%%', pctdistance=0.85, startangle=140)\n",
    "    # draw circle\n",
    "    centre_circle = plt.Circle((0, 0), 0.70, fc='white')\n",
    "    fig = plt.gcf()\n",
    "    # Adding Circle in Pie chart\n",
    "    \n",
    "    fig.gca().add_artist(centre_circle)\n",
    "    plt.title(f'TOTAL DE {group}')\n",
    "    plt.axis('equal')  # Para asegurar que el gráfico de pastel sea un círculo\n",
    "    # Add Legends\n",
    "    plt.legend(df_transposed.columns, loc=\"upper right\")\n",
    "    \n",
    "    plt.show()"
   ]
  },
  {
   "cell_type": "code",
   "execution_count": null,
   "metadata": {},
   "outputs": [],
   "source": [
    "# Crear un gráfico de pastel para cada categoría\n",
    "\n"
   ]
  },
  {
   "cell_type": "code",
   "execution_count": null,
   "metadata": {},
   "outputs": [],
   "source": [
    "#Para hacerlo, puedes utilizar el método dt.strftime('%Y-%m-%d') del objeto datetime para formatar las fechas en el fmt \"Año-Mes-Día\" y luego contar la cantidad de valores distintos en la columna 'FECHA'.\n",
    "\n",
    "\n"
   ]
  },
  {
   "cell_type": "code",
   "execution_count": null,
   "metadata": {},
   "outputs": [],
   "source": [
    "#Para hacerlo, puedes utilizar el método dt.strftime('%Y-%m-%d') del objeto datetime para formatar las fechas en el fmt \"Año-Mes-Día\" y luego contar la cantidad de valores distintos en la columna 'FECHA'.\n",
    "\n",
    "\n"
   ]
  }
 ],
 "metadata": {
  "kernelspec": {
   "display_name": ".venv",
   "language": "python",
   "name": "python3"
  },
  "language_info": {
   "codemirror_mode": {
    "name": "ipython",
    "version": 3
   },
   "file_extension": ".py",
   "mimetype": "text/x-python",
   "name": "python",
   "nbconvert_exporter": "python",
   "pygments_lexer": "ipython3",
   "version": "3.11.8"
  }
 },
 "nbformat": 4,
 "nbformat_minor": 2
}
