{
 "cells": [
  {
   "cell_type": "code",
   "execution_count": null,
   "metadata": {},
   "outputs": [],
   "source": [
    "import pandas as pd\n",
    "import json\n",
    "import requests\n",
    "\n",
    "\n",
    "def procesar_json(file_path):\n",
    "    # Cargar el archivo JSON\n",
    "    with open(file_path, 'r') as file:\n",
    "        data = json.load(file)\n",
    "    \n",
    "    # Crear DataFrame para las paradas\n",
    "    paradas = pd.DataFrame(data['StopList'])\n",
    "    \n",
    "    # Crear DataFrame para las entregas\n",
    "    entregas = pd.DataFrame()\n",
    "    for stop in data['StopList']:\n",
    "        if stop['Deliveries']:\n",
    "            entregas = entregas.append(pd.json_normalize(stop['Deliveries']))\n",
    "    \n",
    "    # Crear DataFrame para los productos\n",
    "    productos = pd.DataFrame()\n",
    "    for stop in data['StopList']:\n",
    "        if stop['Deliveries']:\n",
    "            for delivery in stop['Deliveries']:\n",
    "                if delivery['Items']:\n",
    "                    productos = productos.append(pd.json_normalize(delivery['Items']))\n",
    "    \n",
    "    return paradas, entregas, productos\n",
    "\n",
    "# Ruta al archivo JSON\n",
    "archivo_json = 'D:/OneDrive/9_VIGILOO/Analisis Logs/638497466820762083-834238054.log'\n",
    "\n",
    "# Procesar el archivo JSON y obtener los DataFrames de pandas\n",
    "paradas_df, entregas_df, productos_df = procesar_json(archivo_json)\n",
    "\n",
    "# Mostrar los DataFrames resultantes\n",
    "print(\"DataFrame de Paradas:\")\n",
    "print(paradas_df)\n",
    "\n",
    "print(\"\\nDataFrame de Entregas:\")\n",
    "print(entregas_df)\n",
    "\n",
    "print(\"\\nDataFrame de Productos:\")\n",
    "print(productos_df)\n"
   ]
  },
  {
   "cell_type": "code",
   "execution_count": null,
   "metadata": {},
   "outputs": [],
   "source": [
    "data = json.load(archivo_json)"
   ]
  },
  {
   "cell_type": "markdown",
   "metadata": {},
   "source": [
    "Procesar el Contenido\n",
    "\n",
    "D:\\OneDrive\\9_VIGILOO\\Analisis Logs"
   ]
  },
  {
   "cell_type": "code",
   "execution_count": 14,
   "metadata": {},
   "outputs": [],
   "source": [
    "def procesar_archivo_json(url):\n",
    "    # Realizar la solicitud HTTP para obtener el contenido del archivo JSON\n",
    "    response = requests.get(url)\n",
    "    \n",
    "    # Verificar si la solicitud fue exitosa\n",
    "    if response.status_code == 200:\n",
    "        # Convertir el contenido en un diccionario JSON\n",
    "        data = json.loads(response.text)\n",
    "        \n",
    "        # Procesar el JSON como se hizo anteriormente\n",
    "        \n",
    "        # Crear DataFrame para las paradas\n",
    "        paradas = pd.DataFrame(data['StopList'])\n",
    "        \n",
    "        # Crear DataFrame para las entregas\n",
    "        entregas = pd.DataFrame()\n",
    "        for stop in data['StopList']:\n",
    "            if stop['Deliveries']:\n",
    "                entregas = entregas.append(pd.json_normalize(stop['Deliveries']))\n",
    "        \n",
    "        # Crear DataFrame para los productos\n",
    "        productos = pd.DataFrame()\n",
    "        for stop in data['StopList']:\n",
    "            if stop['Deliveries']:\n",
    "                for delivery in stop['Deliveries']:\n",
    "                    if delivery['Items']:\n",
    "                        productos = productos.append(pd.json_normalize(delivery['Items']))\n",
    "            \n",
    "            # Aquí puedes realizar cualquier operación adicional con los DataFrames\n",
    "            \n",
    "            # Devolver los DataFrames procesados\n",
    "            return paradas_df, entregas_df, productos_df\n",
    "    else:\n",
    "        print(\"Error al descargar el archivo:\", response.status_code)\n",
    "        return None, None, None\n",
    "\n",
    "\n"
   ]
  },
  {
   "cell_type": "code",
   "execution_count": 15,
   "metadata": {},
   "outputs": [
    {
     "ename": "OSError",
     "evalue": "[Errno 22] Invalid argument: 'http://rtv-b2b-api-logs.vigiloo.net/LoadUpload/638497466820762083-834238054.log'",
     "output_type": "error",
     "traceback": [
      "\u001b[1;31m---------------------------------------------------------------------------\u001b[0m",
      "\u001b[1;31mOSError\u001b[0m                                   Traceback (most recent call last)",
      "Cell \u001b[1;32mIn[15], line 5\u001b[0m\n\u001b[0;32m      1\u001b[0m \u001b[38;5;66;03m# URL base de los archivos JSON\u001b[39;00m\n\u001b[0;32m      3\u001b[0m url_base \u001b[38;5;241m=\u001b[39m \u001b[38;5;124m\"\u001b[39m\u001b[38;5;124mhttp://rtv-b2b-api-logs.vigiloo.net/LoadUpload/638497466820762083-834238054.log\u001b[39m\u001b[38;5;124m\"\u001b[39m\n\u001b[1;32m----> 5\u001b[0m paradas_df, entregas_df, productos_df \u001b[38;5;241m=\u001b[39m \u001b[43mprocesar_json\u001b[49m\u001b[43m(\u001b[49m\u001b[43murl_base\u001b[49m\u001b[43m)\u001b[49m\n",
      "Cell \u001b[1;32mIn[6], line 8\u001b[0m, in \u001b[0;36mprocesar_json\u001b[1;34m(file_path)\u001b[0m\n\u001b[0;32m      6\u001b[0m \u001b[38;5;28;01mdef\u001b[39;00m \u001b[38;5;21mprocesar_json\u001b[39m(file_path):\n\u001b[0;32m      7\u001b[0m     \u001b[38;5;66;03m# Cargar el archivo JSON\u001b[39;00m\n\u001b[1;32m----> 8\u001b[0m     \u001b[38;5;28;01mwith\u001b[39;00m \u001b[38;5;28;43mopen\u001b[39;49m\u001b[43m(\u001b[49m\u001b[43mfile_path\u001b[49m\u001b[43m,\u001b[49m\u001b[43m \u001b[49m\u001b[38;5;124;43m'\u001b[39;49m\u001b[38;5;124;43mr\u001b[39;49m\u001b[38;5;124;43m'\u001b[39;49m\u001b[43m)\u001b[49m \u001b[38;5;28;01mas\u001b[39;00m file:\n\u001b[0;32m      9\u001b[0m         data \u001b[38;5;241m=\u001b[39m json\u001b[38;5;241m.\u001b[39mload(file)\n\u001b[0;32m     11\u001b[0m     \u001b[38;5;66;03m# Crear DataFrame para las paradas\u001b[39;00m\n",
      "File \u001b[1;32me:\\PY\\VIGILO\\.venv\\Lib\\site-packages\\IPython\\core\\interactiveshell.py:324\u001b[0m, in \u001b[0;36m_modified_open\u001b[1;34m(file, *args, **kwargs)\u001b[0m\n\u001b[0;32m    317\u001b[0m \u001b[38;5;28;01mif\u001b[39;00m file \u001b[38;5;129;01min\u001b[39;00m {\u001b[38;5;241m0\u001b[39m, \u001b[38;5;241m1\u001b[39m, \u001b[38;5;241m2\u001b[39m}:\n\u001b[0;32m    318\u001b[0m     \u001b[38;5;28;01mraise\u001b[39;00m \u001b[38;5;167;01mValueError\u001b[39;00m(\n\u001b[0;32m    319\u001b[0m         \u001b[38;5;124mf\u001b[39m\u001b[38;5;124m\"\u001b[39m\u001b[38;5;124mIPython won\u001b[39m\u001b[38;5;124m'\u001b[39m\u001b[38;5;124mt let you open fd=\u001b[39m\u001b[38;5;132;01m{\u001b[39;00mfile\u001b[38;5;132;01m}\u001b[39;00m\u001b[38;5;124m by default \u001b[39m\u001b[38;5;124m\"\u001b[39m\n\u001b[0;32m    320\u001b[0m         \u001b[38;5;124m\"\u001b[39m\u001b[38;5;124mas it is likely to crash IPython. If you know what you are doing, \u001b[39m\u001b[38;5;124m\"\u001b[39m\n\u001b[0;32m    321\u001b[0m         \u001b[38;5;124m\"\u001b[39m\u001b[38;5;124myou can use builtins\u001b[39m\u001b[38;5;124m'\u001b[39m\u001b[38;5;124m open.\u001b[39m\u001b[38;5;124m\"\u001b[39m\n\u001b[0;32m    322\u001b[0m     )\n\u001b[1;32m--> 324\u001b[0m \u001b[38;5;28;01mreturn\u001b[39;00m \u001b[43mio_open\u001b[49m\u001b[43m(\u001b[49m\u001b[43mfile\u001b[49m\u001b[43m,\u001b[49m\u001b[43m \u001b[49m\u001b[38;5;241;43m*\u001b[39;49m\u001b[43margs\u001b[49m\u001b[43m,\u001b[49m\u001b[43m \u001b[49m\u001b[38;5;241;43m*\u001b[39;49m\u001b[38;5;241;43m*\u001b[39;49m\u001b[43mkwargs\u001b[49m\u001b[43m)\u001b[49m\n",
      "\u001b[1;31mOSError\u001b[0m: [Errno 22] Invalid argument: 'http://rtv-b2b-api-logs.vigiloo.net/LoadUpload/638497466820762083-834238054.log'"
     ]
    }
   ],
   "source": [
    "# URL base de los archivos JSON\n",
    "\n",
    "url_base = \"http://rtv-b2b-api-logs.vigiloo.net/LoadUpload/638497466820762083-834238054.log\"\n",
    "\n",
    "paradas_df, entregas_df, productos_df = procesar_json(url_base)"
   ]
  }
 ],
 "metadata": {
  "kernelspec": {
   "display_name": ".venv",
   "language": "python",
   "name": "python3"
  },
  "language_info": {
   "codemirror_mode": {
    "name": "ipython",
    "version": 3
   },
   "file_extension": ".py",
   "mimetype": "text/x-python",
   "name": "python",
   "nbconvert_exporter": "python",
   "pygments_lexer": "ipython3",
   "version": "3.12.3"
  }
 },
 "nbformat": 4,
 "nbformat_minor": 2
}
