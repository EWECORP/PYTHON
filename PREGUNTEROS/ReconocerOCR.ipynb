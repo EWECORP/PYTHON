{
 "cells": [
  {
   "cell_type": "markdown",
   "metadata": {},
   "source": [
    "# TRADUCCIÓN de Imágenes a OCR"
   ]
  },
  {
   "cell_type": "code",
   "execution_count": 1,
   "metadata": {},
   "outputs": [],
   "source": [
    "import os \n",
    "import pandas as pd"
   ]
  },
  {
   "cell_type": "code",
   "execution_count": 2,
   "metadata": {},
   "outputs": [],
   "source": [
    "file_names = []\n",
    "\n",
    "for filename in os.listdir('./images'): \n",
    "    # Verificamos si el archivo es un PNG o JPG \n",
    "    if filename.endswith('.png') or filename.endswith('.jpg'): file_names.append(filename)\n",
    "\n"
   ]
  },
  {
   "cell_type": "code",
   "execution_count": 3,
   "metadata": {},
   "outputs": [
    {
     "name": "stdout",
     "output_type": "stream",
     "text": [
      "                                   File Name\n",
      "0   057af17b-7cf6-46a0-aef0-03bfee687e0a.jpg\n",
      "1   15a3a0f5-64f0-43df-baf2-e6845bddc493.jpg\n",
      "2   23e1e5b2-bcf9-4ee5-af1a-552017b0d037.jpg\n",
      "3   30dd532e-8303-42ec-aac4-194979d917b9.jpg\n",
      "4   33bdcb26-3ed6-4be7-aca9-5f5fe29e89bc.jpg\n",
      "5   3cf0da85-d03b-42e9-8dfd-2970efacaa26.jpg\n",
      "6   50f6f77e-3400-4fc4-b954-7aefe2155f96.jpg\n",
      "7   551d96e7-6dd6-4a98-aab0-2171f8d23f71.jpg\n",
      "8   56b0de2c-e965-4e6b-951d-3db6793594e3.jpg\n",
      "9   741d08ea-1678-4768-8917-91c545b7c659.jpg\n",
      "10  7c5bfcae-15d5-4a19-b763-a10591f45e36.jpg\n",
      "11  82c0f6cc-5939-4c4a-827b-2681d036c8e0.jpg\n",
      "12  9ad3e0f5-c9d4-4495-b6c5-5c321c3079a5.jpg\n",
      "13  b5efad91-ed4b-4181-883f-3d6f93c45690.jpg\n",
      "14  deeb5462-40b5-4203-b4df-57d19b174ae0.jpg\n",
      "15  f7c2650e-9842-434c-a029-14b2004b2e06.jpg\n",
      "16  ff2bf85d-2d92-410f-8bea-8721c18ada28.jpg\n"
     ]
    }
   ],
   "source": [
    "df = pd.DataFrame({'File Name': file_names})\n",
    "\n",
    "print(df)"
   ]
  },
  {
   "cell_type": "code",
   "execution_count": 4,
   "metadata": {},
   "outputs": [],
   "source": [
    "from PIL import Image\n",
    "import pytesseract\n",
    "\n",
    "# Instalar Tesseract\n",
    "# pip install pytesseract\n",
    "# download binary from https://github.com/UB-Mannheim/tesseract/wiki. then add pytesseract.pytesseract.tesseract_cmd = 'C:\\\\Program Files (x86)\\\\Tesseract-OCR\\\\tesseract.exe' to your script. (replace path of tesseract binary if necessary)\n",
    "# references: https://pypi.org/project/pytesseract/ (INSTALLATION section) and https://github.com/tesseract-ocr/tesseract/wiki#installation\n",
    "# Ejecutable instalado en C:\\Program Files\\Tesseract-OCR\n",
    "\n",
    "pytesseract.pytesseract.tesseract_cmd = 'C:\\\\Program Files\\\\Tesseract-OCR\\\\tesseract.exe'"
   ]
  },
  {
   "cell_type": "code",
   "execution_count": null,
   "metadata": {},
   "outputs": [],
   "source": []
  },
  {
   "cell_type": "code",
   "execution_count": 5,
   "metadata": {},
   "outputs": [],
   "source": [
    "# Iteramos sobre cada archivo en el dataframe y realizamos OCR sobre las imágenes\n",
    "for index, row in df.iterrows():\n",
    "    # Leemos la imagen utilizando PIL\n",
    "    image = Image.open(os.path.join('./images', row['File Name']))\n",
    "    # Realizamos OCR sobre la imagen utilizando pytesseract\n",
    "    text = pytesseract.image_to_string(image, lang=\"spa_8\")\n",
    "    # Escribimos el texto en un archivo .txt\n",
    "    with open('output.txt', 'a', encoding=\"utf-8\") as f:\n",
    "        f.write(text + '\\n\\n')\n",
    "\n"
   ]
  },
  {
   "cell_type": "code",
   "execution_count": null,
   "metadata": {},
   "outputs": [],
   "source": [
    "# Mejorar Reconocimiento Español\n",
    "# https://es.stackoverflow.com/questions/313055/extraer-texto-de-una-imagen-con-tesseract\n",
    "# pytesseract.image_to_string(img, lang=\"eng+spa+fra\")\n",
    "\n",
    "# GUIA BUENAS PRÁCTICAS  https://konfuzio.com/es/tesseract-tutorial/\n"
   ]
  }
 ],
 "metadata": {
  "kernelspec": {
   "display_name": ".venv",
   "language": "python",
   "name": "python3"
  },
  "language_info": {
   "codemirror_mode": {
    "name": "ipython",
    "version": 3
   },
   "file_extension": ".py",
   "mimetype": "text/x-python",
   "name": "python",
   "nbconvert_exporter": "python",
   "pygments_lexer": "ipython3",
   "version": "3.13.2"
  }
 },
 "nbformat": 4,
 "nbformat_minor": 2
}
